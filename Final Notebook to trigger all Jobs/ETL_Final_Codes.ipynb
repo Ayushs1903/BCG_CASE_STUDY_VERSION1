{
 "cells": [
  {
   "cell_type": "code",
   "execution_count": 13,
   "metadata": {},
   "outputs": [],
   "source": [
    "import pyspark\n",
    "from pyspark.sql import *\n",
    "from pyspark.sql.functions import *"
   ]
  },
  {
   "cell_type": "code",
   "execution_count": 14,
   "metadata": {},
   "outputs": [],
   "source": [
    "spark = SparkSession.builder\\\n",
    "          .appName(\"BCG_Car_Crash_CaseStudy\")\\\n",
    "          .getOrCreate()"
   ]
  },
  {
   "cell_type": "markdown",
   "metadata": {},
   "source": [
    "# Import all solutions"
   ]
  },
  {
   "cell_type": "code",
   "execution_count": 15,
   "metadata": {},
   "outputs": [],
   "source": [
    "import Get_Path as getpath\n",
    "import DataFrame_Create as DFrame\n",
    "import Analytics_1_solution as analy1\n",
    "import Analytics_2_solution as analy2\n",
    "import Analytics_3_solution as analy3\n",
    "import Analytics_4_solution as analy4\n",
    "import Analytics_5_solution as analy5\n",
    "import Analytics_6_solution as analy6\n",
    "import Analytics_7_solution as analy7\n",
    "import Analytics_8_solution as analy8"
   ]
  },
  {
   "cell_type": "markdown",
   "metadata": {},
   "source": [
    "# Create function to start all executions"
   ]
  },
  {
   "cell_type": "code",
   "execution_count": 16,
   "metadata": {},
   "outputs": [],
   "source": [
    "def main():\n",
    "    '''This function is used to execut all solutions and print result'''\n",
    "    analytics_1= analy1.Analytics_1_Solution()\n",
    "    analytics_2= analy2.Analytics_2_Solution()\n",
    "    analytics_3= analy3.Analytics_3_Solution()\n",
    "    analytics_4= analy4.Analytics_4_Solution()\n",
    "    analytics_5= analy5.Analytics_5_Solution()\n",
    "    analytics_6= analy6.Analytics_6_Solution()\n",
    "    analytics_7= analy7.Analytics_7_Solution()\n",
    "    analytics_8= analy8.Analytics_8_Solution()\n",
    "    print('Result of Analytics1:')\n",
    "    analytics_1.analytics1()\n",
    "    print('Result of Analytics2:')\n",
    "    analytics_2.analytics2()\n",
    "    print('Result of Analytics3:')\n",
    "    analytics_3.analytics3()\n",
    "    print('Result of Analytics4:')\n",
    "    analytics_4.analytics4()\n",
    "    print('Result of Analytics5:')\n",
    "    analytics_5.analytics5()\n",
    "    print('Result of Analytics6:')\n",
    "    analytics_6.analytics6()\n",
    "    print('Result of Analytics7:')\n",
    "    analytics_7.analytics7()\n",
    "    print('Result of Analytics8:')\n",
    "    analytics_8.analytics8()"
   ]
  },
  {
   "cell_type": "code",
   "execution_count": 17,
   "metadata": {},
   "outputs": [
    {
     "name": "stdout",
     "output_type": "stream",
     "text": [
      "Result of Analytics1:\n",
      "+-----+\n",
      "|Count|\n",
      "+-----+\n",
      "|  180|\n",
      "+-----+\n",
      "\n",
      "Result of analytics1 successfully written at path dbfs:/FileStore/output/analytics1.csv\n",
      "Result of Analytics2:\n",
      "+-----+\n",
      "|count|\n",
      "+-----+\n",
      "|  763|\n",
      "+-----+\n",
      "\n",
      "Result of analytics2 successfully written at path dbfs:/FileStore/output/analytics2.csv\n",
      "Result of Analytics3:\n",
      "+-----------------+-----+\n",
      "|DRVR_LIC_STATE_ID|Count|\n",
      "+-----------------+-----+\n",
      "|            Texas|42138|\n",
      "+-----------------+-----+\n",
      "\n",
      "Result of analytics3 successfully written at path dbfs:/FileStore/output/analytics3.csv\n",
      "Result of Analytics4:\n",
      "+-----------+-----+---+\n",
      "|VEH_MAKE_ID|total|RNK|\n",
      "+-----------+-----+---+\n",
      "|     NISSAN| 3114|  5|\n",
      "|      HONDA| 2892|  6|\n",
      "|        GMC| 1246|  7|\n",
      "|    HYUNDAI| 1103|  8|\n",
      "|        KIA| 1049|  9|\n",
      "|       JEEP|  988| 10|\n",
      "|   CHRYSLER|  955| 11|\n",
      "|      MAZDA|  711| 12|\n",
      "|         NA|  673| 13|\n",
      "| VOLKSWAGEN|  582| 14|\n",
      "|    PONTIAC|  564| 15|\n",
      "+-----------+-----+---+\n",
      "\n",
      "Result of analytics4 successfully written at path dbfs:/FileStore/output/analytics4.csv\n",
      "Result of Analytics5:\n",
      "+--------------------+-----------------+\n",
      "|    VEH_BODY_STYL_ID|PRSN_ETHNICITY_ID|\n",
      "+--------------------+-----------------+\n",
      "|           AMBULANCE|            WHITE|\n",
      "|                 BUS|            BLACK|\n",
      "|      FARM EQUIPMENT|            WHITE|\n",
      "|          FIRE TRUCK|            WHITE|\n",
      "|          MOTORCYCLE|            WHITE|\n",
      "|                  NA|            WHITE|\n",
      "|NEV-NEIGHBORHOOD ...|            WHITE|\n",
      "|        NOT REPORTED|            WHITE|\n",
      "|OTHER  (EXPLAIN I...|            WHITE|\n",
      "|PASSENGER CAR, 2-...|            WHITE|\n",
      "|PASSENGER CAR, 4-...|            WHITE|\n",
      "|              PICKUP|            WHITE|\n",
      "|    POLICE CAR/TRUCK|            WHITE|\n",
      "|   POLICE MOTORCYCLE|            WHITE|\n",
      "|SPORT UTILITY VEH...|            WHITE|\n",
      "|               TRUCK|            WHITE|\n",
      "|       TRUCK TRACTOR|            WHITE|\n",
      "|             UNKNOWN|          UNKNOWN|\n",
      "|                 VAN|            WHITE|\n",
      "|   YELLOW SCHOOL BUS|            BLACK|\n",
      "+--------------------+-----------------+\n",
      "\n",
      "Result of analytics5 successfully written at path dbfs:/FileStore/output/analytics5.csv\n",
      "Result of Analytics6:\n",
      "+--------+\n",
      "|DRVR_ZIP|\n",
      "+--------+\n",
      "|78521   |\n",
      "|76010   |\n",
      "|78130   |\n",
      "|78550   |\n",
      "|78741   |\n",
      "+--------+\n",
      "\n",
      "Result of analytics6 successfully written at path dbfs:/FileStore/output/analytics6.csv\n",
      "Result of Analytics7:\n",
      "+----------------------+\n",
      "|Distinct_CrashID_Count|\n",
      "+----------------------+\n",
      "|1184                  |\n",
      "+----------------------+\n",
      "\n",
      "Result of analytics7 successfully written at path dbfs:/FileStore/output/analytics7.csv\n",
      "Result of Analytics8:\n",
      "+-----------+-------------------------+\n",
      "|VEH_MAKE_ID|Count_for_each_Veh_Makers|\n",
      "+-----------+-------------------------+\n",
      "|FORD       |9213                     |\n",
      "|CHEVROLET  |8230                     |\n",
      "|TOYOTA     |5253                     |\n",
      "|DODGE      |3910                     |\n",
      "|NISSAN     |3401                     |\n",
      "+-----------+-------------------------+\n",
      "\n",
      "Result of analytics8 successfully written at path dbfs:/FileStore/output/analytics8.csv\n"
     ]
    }
   ],
   "source": [
    "if __name__=='__main__':\n",
    "    main()"
   ]
  },
  {
   "cell_type": "code",
   "execution_count": null,
   "metadata": {},
   "outputs": [],
   "source": []
  },
  {
   "cell_type": "code",
   "execution_count": null,
   "metadata": {},
   "outputs": [],
   "source": []
  },
  {
   "cell_type": "code",
   "execution_count": null,
   "metadata": {},
   "outputs": [],
   "source": []
  },
  {
   "cell_type": "code",
   "execution_count": null,
   "metadata": {},
   "outputs": [],
   "source": []
  },
  {
   "cell_type": "code",
   "execution_count": null,
   "metadata": {},
   "outputs": [],
   "source": []
  },
  {
   "cell_type": "code",
   "execution_count": null,
   "metadata": {},
   "outputs": [],
   "source": []
  }
 ],
 "metadata": {
  "kernelspec": {
   "display_name": "Python 3",
   "language": "python",
   "name": "python3"
  },
  "language_info": {
   "codemirror_mode": {
    "name": "ipython",
    "version": 3
   },
   "file_extension": ".py",
   "mimetype": "text/x-python",
   "name": "python",
   "nbconvert_exporter": "python",
   "pygments_lexer": "ipython3",
   "version": "3.8.5"
  }
 },
 "nbformat": 4,
 "nbformat_minor": 4
}
